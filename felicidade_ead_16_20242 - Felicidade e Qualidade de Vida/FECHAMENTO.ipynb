{
 "cells": [
  {
   "cell_type": "markdown",
   "metadata": {},
   "source": [
    "Os seis módulos do curso “Felicidade e Qualidade de Vida” foram desenvolvidos de modo que o conceito de felicidade fosse refletido à luz de bases científicas e filosóficas importantes, analisando sua transformação ao longo da história e verificando os vínculos com a vida real.\n",
    "\n",
    "É esperado que o curso tenha contribuído para o aprofundamento das perspectivas a respeito das ideias e das práticas de felicidade, bem como para a descoberta de novos horizontes para de pensamento e possíveis realizações. Desse modo, os estudos sobre a felicidade têm um compromisso ético fundamental, a saber: estimular a reflexão pedagógica sobre esse elemento constitutivo de nossas vidas e incentivar as suas múltiplas aplicações e diversos desdobramentos.\n",
    "\n",
    "A tarefa de realização da felicidade conjuga sua dimensão subjetiva, e, portanto, individual, entretanto apontamos também leituras que sugerem um engajamento coletivo e a prática de competências socioemocionais para melhor viver individualmente e em sociedade.\n",
    "\n",
    "Sendo assim, os estudos realizados no curso promovem e provocam análises que podem contribuir para caminhos particulares, estimulando práticas e saberes para os ambientes profissionais e pessoais de cada um(a) de vocês. Ao mesmo tempo, o curso aposta na esfera coletiva e processual da felicidade, abrindo suas linhas de força numa perspectiva que direciona para o trabalho, em reflexões constantes, e para a necessidade de que o bem comum seja um horizonte de conquistas de qualidade de vida efetiva regida por princípios democráticos e igualitários.\n",
    "\n",
    "Esperamos que este curso tenha contribuído para sua jornada pessoal. Até a próxima!\n",
    "\n",
    "**7 Passos para a Felicidade**\n",
    "Veja, a seguir, o sétimo e último passo e o que ele tem a lhe ensinar. Vamos lá?\n",
    "\n",
    "PASSO 7 – DIVIRTA-SE.pdf \n",
    "\n",
    "\n",
    "**#Compartilhe!**\n",
    "Utilize as hashtags #NIAC #CruzeirodoSulVirtual #felicidade para compartilhar esse infográfico em suas redes sociais. Faça parte dessa corrente!\n",
    "\n",
    "Sucesso!\n",
    "\n"
   ]
  },
  {
   "cell_type": "markdown",
   "metadata": {},
   "source": [
    "\n",
    "**Bibliografia Básica**\n",
    "\n",
    "ANDREWS, S. A Ciência de Ser Feliz. São Paulo: Ágora, 2011. 110 p.\n",
    "\n",
    "ELWICK, A; CANNIZZARO, S. Happiness in higher education. Higher Education Quarterly, v. 71, n. 2, p. 204-219, 2017.\n",
    "\n",
    "NIKOLAEV, B. Does higher education increase hedonic and eudaimonic happiness? Journal of happiness Studies, v. 19, n. 2, p. 483-504, 2018.\n",
    "\n",
    "PAULA, M. F de. Sobre a Felicidade. Belo Horizonte: Autêntica Editora, 2014. 166p.\n",
    "\n",
    "SACHS, J. D. et al. World happiness report 2018. 2018. – Disponível em: <https://bit.ly/2J9H6XL> Acesso em: 26/11/2020.\n",
    "\n",
    "________. Introduction to the 2019 global happiness and wellbeing policy report. Global Happiness and Wellbeing, 2019. Disponível em: <https://bit.ly/2V52znn> Acesso em: 26/11/2020.\n",
    "\n",
    "\n",
    "\n",
    "Bibliografia Complementar\n",
    "\n",
    "GIANNETTI. E. Felicidade. São Paulo: Companhia da Letras, 2002. Disponível em: <https://bit.ly/2V52znn> Acesso em: 26/11/2020.\n",
    "\n",
    "LENOIR, F. Sobre a Felicidade: Uma Viagem Filosófica. Frédéric Lenoir; trad. Véra Lucia dos Reis. 1. ed. Rio de Janeiro: Editora Objetiva, 2016.\n",
    "\n",
    "MINOIS, G. A Idade de Ouro: História da Busca da Felicidade. Trad. Christiane Fonseca Gradvohl Colas. São Paulo: Editora Unesp, 2011. 466p.\n",
    "\n",
    "SEWAYBRICKER, L. E. A Felicidade na Sociedade Contemporânea: Contraste entre Diferentes Perspectivas Filosóficas e a Modernidade Líquida.\n",
    "\n",
    "Dissertação (Mestrado – Programa de Pós-Graduação em Psicologia. Área de Concentração: Psicologia Social) – Instituto de Psicologia da Universidade de São Paulo. Disponível em: <https://bit.ly/3nR9D3s> Acesso em: 26/11/2020."
   ]
  }
 ],
 "metadata": {
  "language_info": {
   "name": "python"
  }
 },
 "nbformat": 4,
 "nbformat_minor": 2
}
