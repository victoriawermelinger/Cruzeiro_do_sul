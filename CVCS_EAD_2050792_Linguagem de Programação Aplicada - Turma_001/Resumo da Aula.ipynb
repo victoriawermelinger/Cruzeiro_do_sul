{
 "cells": [
  {
   "cell_type": "markdown",
   "metadata": {},
   "source": [
    "# **Linguagem de Programação Aplicada**"
   ]
  },
  {
   "cell_type": "markdown",
   "metadata": {},
   "source": [
    "## **AULA 01**\n",
    "\n",
    "### **Introdução**\n",
    "**Python para Análise de Dados, Conceitos Gerais, IDEs e Introdução à Linguagem Python** \n",
    "\n",
    "### **Por que usar Python?**  \n",
    "Python se tornou uma das linguagens mais populares para **Ciência de Dados, Análise de Dados e Inteligência Artificial**. Mas o que faz dela uma ótima escolha?  \n",
    "\n",
    "✅ **Fácil de aprender** – Sua sintaxe é simples e intuitiva.  \n",
    "✅ **Poderosa** – Conta com diversas bibliotecas para manipulação e visualização de dados.  \n",
    "✅ **Multiplataforma** – Funciona em Windows, Mac e Linux.  \n",
    "✅ **Grande comunidade** – Milhares de desenvolvedores contribuem com novas ferramentas e suporte.  \n",
    "\n",
    "Python foi criado por **Guido van Rossum** em **1989** e lançado em **1991**. Desde então, cresceu e se tornou uma das linguagens mais usadas no mundo.\n",
    "Apesar de existirem outras linguagens como R, Scala e Java, Python se destaca pela vasta comunidade e grande número de bibliotecas especializadas, como Pandas, NumPy e Matplotlib. \n",
    "\n",
    "### **Python na Análise de Dados**  \n",
    "Com Python, é possível realizar **todo o processo de análise de dados**, incluindo:  \n",
    "\n",
    "📌 **Coleta de dados** – Importar dados de arquivos, bancos de dados e APIs.  \n",
    "📌 **Limpeza e transformação** – Ajustar dados para facilitar análises.  \n",
    "📌 **Processamento e modelagem** – Aplicar técnicas estatísticas e algoritmos.  \n",
    "📌 **Visualização** – Criar gráficos e dashboards interativos.  \n",
    "\n",
    "As principais bibliotecas que usaremos são:  \n",
    "- **Pandas** – Manipulação de tabelas de dados.  \n",
    "- **NumPy** – Trabalhar com números e cálculos eficientes.  \n",
    "- **Matplotlib e Seaborn** – Criar gráficos e visualizações.  "
   ]
  },
  {
   "cell_type": "markdown",
   "metadata": {},
   "source": [
    "### **Operações Matemáticas em Python**  \n",
    "\n",
    "O Python pode ser usado como uma **calculadora**, permitindo fazer desde operações simples até cálculos mais complexos.  \n",
    "\n",
    "### **Tipos Numéricos em Python**\n",
    "Em Python, os números podem ser representados por dois principais tipos:  \n",
    "\n",
    "✅ **int (inteiro)** – Números sem casas decimais, como `5`, `100`, `-20`.  \n",
    "✅ **float (real)** – Números com casas decimais, como `4.56`, `3.14`, `-0.99`.  "
   ]
  },
  {
   "cell_type": "code",
   "execution_count": 74,
   "metadata": {},
   "outputs": [
    {
     "name": "stdout",
     "output_type": "stream",
     "text": [
      "<class 'int'>\n",
      "<class 'float'>\n"
     ]
    }
   ],
   "source": [
    "#Podemos verificar o tipo de um número usando a função `type()`, veja o exemplo:  \n",
    "\n",
    "print(type(5))      # Resultado: <class 'int'>\n",
    "print(type(4.56))   # Resultado: <class 'float'>"
   ]
  },
  {
   "cell_type": "markdown",
   "metadata": {},
   "source": [
    "### **Ordem das Operações**  \n",
    "As operações matemáticas seguem a **mesma ordem de precedência** da matemática:  \n",
    "\n",
    "1️⃣ **Parênteses** `()` – São resolvidos primeiro.  \n",
    "2️⃣ **Expoentes** `**` – Potências são calculadas antes.  \n",
    "3️⃣ **Multiplicação** `*`, **Divisão** `/`, **Divisão inteira** `//`, **Módulo** `%` – São feitas antes da soma e subtração.  \n",
    "4️⃣ **Soma** `+` e **Subtração** `-` – São resolvidas por último.  "
   ]
  },
  {
   "cell_type": "code",
   "execution_count": 75,
   "metadata": {},
   "outputs": [
    {
     "name": "stdout",
     "output_type": "stream",
     "text": [
      "resultado1 11\n",
      "resultado2 20\n",
      "resultado3 3.3333333333333335\n",
      "resultado4 3\n",
      "resultado5 1\n"
     ]
    }
   ],
   "source": [
    "resultado1 = 3 + 2 * 4      # 2 * 4 = 8 → 3 + 8 = 11\n",
    "resultado2 = (3 + 2) * 4    # (3 + 2) = 5 → 5 * 4 = 20\n",
    "resultado3 = 10 / 3         # Resultado: 3.3333 (divisão normal)\n",
    "resultado4 = 10 // 3        # Resultado: 3 (divisão inteira)\n",
    "resultado5 = 10 % 3         # Resultado: 1 (resto da divisão)\n",
    "\n",
    "print('resultado1',resultado1)\n",
    "print('resultado2',resultado2)\n",
    "print('resultado3',resultado3)\n",
    "print('resultado4',resultado4)\n",
    "print('resultado5',resultado5)"
   ]
  },
  {
   "cell_type": "markdown",
   "metadata": {},
   "source": [
    "### **Variáveis e Operadores em Python**  \n",
    "\n",
    "Para criar expressões matemáticas em Python, precisamos conhecer **operadores** e **variáveis**.  \n",
    "\n",
    "### **Operadores Aritméticos**  \n",
    "\n",
    "Os operadores permitem realizar cálculos com números. Veja a tabela abaixo:  \n",
    "\n",
    "| **Operador** | **Significado**        | **Exemplo**      | **Resultado** |\n",
    "|-------------|-----------------------|-----------------|--------------|\n",
    "| `+`         | Soma                  | `3 + 3`        | `6`          |\n",
    "| `-`         | Subtração              | `3 - 2`        | `1`          |\n",
    "| `*`         | Multiplicação          | `5 * 4`        | `20`         |\n",
    "| `/`         | Divisão (float)        | `5 / 2`        | `2.5`        |\n",
    "| `//`        | Divisão inteira (int)  | `5 // 2`       | `2`          |\n",
    "| `%`         | Resto da divisão       | `5 % 2`        | `1`          |\n",
    "| `**`        | Potência               | `2 ** 3`       | `8`          |\n",
    "| `int()`     | Converte para inteiro  | `int(4.5)`     | `4`          |\n",
    "| `float()`   | Converte para float    | `float(3)`     | `3.0`        |\n",
    "\n",
    "### **Operadores Relacionais**  \n",
    "\n",
    "Usamos operadores relacionais para comparar valores:  \n",
    "\n",
    "| **Operador** | **Significado**     | **Exemplo**    | **Resultado** |\n",
    "|-------------|--------------------|--------------|--------------|\n",
    "| `==`        | Igualdade           | `5 == 5`     | `True`       |\n",
    "| `!=`        | Diferente           | `5 != 3`     | `True`       |\n",
    "| `>`         | Maior que           | `10 > 2`     | `True`       |\n",
    "| `<`         | Menor que           | `2 < 5`      | `True`       |\n",
    "| `>=`        | Maior ou igual a    | `7 >= 7`     | `True`       |\n",
    "| `<=`        | Menor ou igual a    | `4 <= 8`     | `True`       |\n",
    "\n",
    "### **Criando Variáveis em Python**  \n",
    "\n",
    "Uma **variável** é um espaço na memória para armazenar valores. Para criar variáveis em Python, siga estas regras:  \n",
    "\n",
    "✅ **Não pode começar com número** (`idade = 25`, mas não `2idade = 25`).  \n",
    "✅ **Não pode ter espaços** (use `_` para separar palavras, ex: `nome_completo`).  \n",
    "✅ **Não pode usar caracteres especiais** (`<>|\\?/` etc.).  "
   ]
  },
  {
   "cell_type": "code",
   "execution_count": 76,
   "metadata": {},
   "outputs": [
    {
     "name": "stdout",
     "output_type": "stream",
     "text": [
      "Ana tem 25 anos e 1.75m de altura.\n",
      "Maior de idade? True\n"
     ]
    }
   ],
   "source": [
    "# Criando variáveis\n",
    "idade = 25\n",
    "altura = 1.75\n",
    "nome = \"Ana\"\n",
    "\n",
    "# Operações matemáticas\n",
    "soma = idade + 5       # 30\n",
    "multiplicacao = idade * 2  # 50\n",
    "\n",
    "# Comparação\n",
    "maior_de_idade = idade >= 18  # True\n",
    "\n",
    "print(f\"{nome} tem {idade} anos e {altura}m de altura.\")\n",
    "print(f\"Maior de idade? {maior_de_idade}\")"
   ]
  },
  {
   "cell_type": "markdown",
   "metadata": {},
   "source": [
    "### **Variáveis, Operadores de Atribuição e Operadores Lógicos em Python**  \n",
    "\n",
    "### **Criando Variáveis**  \n",
    "\n",
    "Em Python, podemos criar variáveis **simplesmente atribuindo um valor** a elas:  \n",
    "\n",
    "```python\n",
    "x = 10  # Criando a variável x e atribuindo o valor 10\n",
    "```\n",
    "\n",
    "🚨 **Regras importantes para criar variáveis:**  \n",
    "✅ **Não podem começar com números** (`idade = 25`, mas não `2idade = 25`).  \n",
    "✅ **Não podem conter espaços** (use `_`, por exemplo, `nome_completo`).  \n",
    "✅ **Não podem usar caracteres especiais** (`<>|\\?/` etc.).  \n",
    "✅ **Não podem usar palavras reservadas** da linguagem (como `if`, `for`, `while`, `print`).  \n",
    "\n",
    "💡 **Dica:** Escolha nomes de variáveis que façam sentido! Em vez de `x`, prefira algo como `idade`, `altura`, `saldo`.  \n",
    "\n",
    "### **Operadores de Atribuição**  \n",
    "\n",
    "O operador `=` é usado para **atribuir valores** a uma variável. Além dele, temos os **operadores de atribuição combinados**, que tornam o código mais compacto.  \n",
    "\n",
    "| **Operador** | **Significado**          | **Exemplo**           | **Equivalente a**      |\n",
    "|-------------|-------------------------|----------------------|----------------------|\n",
    "| `=`         | Atribuição                | `x = 10`             | `x recebe 10`       |\n",
    "| `+=`        | Soma + atribuição         | `x += 10`            | `x = x + 10`        |\n",
    "| `-=`        | Subtração + atribuição    | `x -= 10`            | `x = x - 10`        |\n",
    "| `*=`        | Multiplicação + atribuição| `x *= 10`            | `x = x * 10`        |\n",
    "| `/=`        | Divisão + atribuição      | `x /= 10`            | `x = x / 10`        |\n",
    "| `%=`        | Resto da divisão + atribuição | `x %= 10`      | `x = x % 10`        |\n",
    "| `**=`       | Potência + atribuição     | `x **= 2`            | `x = x ** 2`        |\n",
    "| `//=`       | Divisão inteira + atribuição | `x //= 10`      | `x = x // 10`       |"
   ]
  },
  {
   "cell_type": "code",
   "execution_count": 77,
   "metadata": {},
   "outputs": [
    {
     "name": "stdout",
     "output_type": "stream",
     "text": [
      "120\n"
     ]
    }
   ],
   "source": [
    "saldo = 100\n",
    "saldo += 50  # Agora saldo vale 150\n",
    "saldo -= 30  # Agora saldo vale 120\n",
    "print(saldo)  # Resultado: 120"
   ]
  },
  {
   "cell_type": "markdown",
   "metadata": {},
   "source": [
    "### **Operadores Lógicos**  \n",
    "\n",
    "Os operadores lógicos são usados para combinar condições.  \n",
    "\n",
    "| **Operador** | **Significado** |\n",
    "|-------------|----------------|\n",
    "| `and`       | Retorna `True` se **ambas** as condições forem verdadeiras |\n",
    "| `or`        | Retorna `True` se **pelo menos uma** condição for verdadeira |\n",
    "| `not`       | Inverte o valor da condição (se for `True`, vira `False`, e vice-versa) |\n",
    "\n",
    "#### **Tabela Verdade**  \n",
    "\n",
    "#### **Operador `and` (E)**  \n",
    "Ambas as expressões precisam ser **True** para o resultado ser `True`.  \n",
    "\n",
    "| Expressão 1 | Expressão 2 | `Expressão 1 and Expressão 2` |\n",
    "|-------------|-------------|----------------------------|\n",
    "| False       | False       | False                      |\n",
    "| False       | True        | False                      |\n",
    "| True        | False       | False                      |\n",
    "| True        | True        | True                       |\n",
    "\n",
    "#### **Operador `or` (OU)**  \n",
    "Se **pelo menos uma** das expressões for `True`, o resultado será `True`.  \n",
    "\n",
    "| Expressão 1 | Expressão 2 | `Expressão 1 or Expressão 2` |\n",
    "|-------------|-------------|----------------------------|\n",
    "| False       | False       | False                      |\n",
    "| False       | True        | True                       |\n",
    "| True        | False       | True                       |\n",
    "| True        | True        | True                       |\n",
    "\n",
    "#### **Operador `not` (Negação)**  \n",
    "Inverte o valor da expressão.  \n",
    "\n",
    "| Expressão | `not Expressão` |\n",
    "|-----------|----------------|\n",
    "| False     | True           |\n",
    "| True      | False          |"
   ]
  },
  {
   "cell_type": "code",
   "execution_count": 78,
   "metadata": {},
   "outputs": [
    {
     "name": "stdout",
     "output_type": "stream",
     "text": [
      "True\n",
      "False\n",
      "True\n"
     ]
    }
   ],
   "source": [
    "idade = 20\n",
    "tem_ingresso = True\n",
    "\n",
    "# Só entra na festa se tiver mais de 18 anos E tiver ingresso\n",
    "pode_entrar = idade > 18 and tem_ingresso\n",
    "print(pode_entrar)  # True\n",
    "\n",
    "# Pode ganhar brinde se tiver menos de 18 anos OU for aniversariante\n",
    "aniversariante = False\n",
    "ganha_brinde = idade < 18 or aniversariante\n",
    "print(ganha_brinde)  # False\n",
    "\n",
    "# Invertendo uma condição\n",
    "print(not ganha_brinde)  # True"
   ]
  },
  {
   "cell_type": "markdown",
   "metadata": {},
   "source": [
    "### **Entrada e Saída de Dados em Python**  \n",
    "\n",
    "#### **Leitura de Dados com `input()`**  \n",
    "\n",
    "O comando `input()` permite **ler dados digitados pelo usuário**. Por padrão, ele **sempre retorna um texto (string)**. "
   ]
  },
  {
   "cell_type": "code",
   "execution_count": 79,
   "metadata": {},
   "outputs": [
    {
     "name": "stdout",
     "output_type": "stream",
     "text": [
      "Olá, Victoria\n"
     ]
    }
   ],
   "source": [
    "nome = input(\"Digite seu nome: \")\n",
    "print(\"Olá,\", nome)"
   ]
  },
  {
   "cell_type": "markdown",
   "metadata": {},
   "source": [
    "🔹 **Lendo números:** Como `input()` retorna texto, precisamos converter os valores numéricos com `int()` ou `float()`: "
   ]
  },
  {
   "cell_type": "code",
   "execution_count": 80,
   "metadata": {},
   "outputs": [
    {
     "name": "stdout",
     "output_type": "stream",
     "text": [
      "Idade: 33 anos | Altura: 1.69 m\n"
     ]
    }
   ],
   "source": [
    "idade = int(input(\"Digite sua idade: \"))  # Converte para inteiro\n",
    "altura = float(input(\"Digite sua altura: \"))  # Converte para número real\n",
    "print(\"Idade:\", idade, \"anos | Altura:\", altura, \"m\")"
   ]
  },
  {
   "cell_type": "markdown",
   "metadata": {},
   "source": [
    "#### **Exemplo: Soma de Dois Números** "
   ]
  },
  {
   "cell_type": "code",
   "execution_count": 81,
   "metadata": {},
   "outputs": [
    {
     "name": "stdout",
     "output_type": "stream",
     "text": [
      "A soma de 25 + 52 é igual a: 77\n"
     ]
    }
   ],
   "source": [
    "a = int(input(\"Digite o primeiro número: \"))\n",
    "b = int(input(\"Digite o segundo número: \"))\n",
    "soma = a + b\n",
    "print(\"A soma de\", a, \"+\", b, \"é igual a:\", soma)"
   ]
  },
  {
   "cell_type": "markdown",
   "metadata": {},
   "source": [
    "### **Cálculo da Área de um Retângulo**  "
   ]
  },
  {
   "cell_type": "code",
   "execution_count": 82,
   "metadata": {},
   "outputs": [
    {
     "name": "stdout",
     "output_type": "stream",
     "text": [
      "A área do retângulo é: 1300.0\n"
     ]
    }
   ],
   "source": [
    "largura = float(input(\"Digite a largura do retângulo: \"))\n",
    "altura = float(input(\"Digite a altura do retângulo: \"))\n",
    "area = largura * altura\n",
    "print(\"A área do retângulo é:\", area)"
   ]
  },
  {
   "cell_type": "markdown",
   "metadata": {},
   "source": [
    "### **Manipulação de Strings**  \n",
    "\n",
    "#### **O que são Strings?**  \n",
    "Strings são **sequências de caracteres** que podem ser representadas com **aspas simples (`'`) ou duplas (`\"`)**.  "
   ]
  },
  {
   "cell_type": "code",
   "execution_count": 83,
   "metadata": {},
   "outputs": [
    {
     "name": "stdout",
     "output_type": "stream",
     "text": [
      "Olá, mundo! Python é incrível!\n"
     ]
    }
   ],
   "source": [
    "frase1 = \"Olá, mundo!\"\n",
    "frase2 = 'Python é incrível!'\n",
    "\n",
    "print(frase1, frase2)"
   ]
  },
  {
   "cell_type": "markdown",
   "metadata": {},
   "source": [
    "#### **Concatenando Strings e Números** \n",
    "Para juntar textos e números, usamos `str()` para converter valores numéricos:  "
   ]
  },
  {
   "cell_type": "code",
   "execution_count": 84,
   "metadata": {},
   "outputs": [
    {
     "name": "stdout",
     "output_type": "stream",
     "text": [
      "Alcides, altura = 1.69\n"
     ]
    }
   ],
   "source": [
    "nome = \"Alcides\"\n",
    "altura = 1.69\n",
    "print(nome + \", altura = \" + str(altura))"
   ]
  },
  {
   "cell_type": "markdown",
   "metadata": {},
   "source": [
    "#### **Acessando Caracteres dentro de uma String**  \n",
    "\n",
    "Podemos acessar **cada caractere individualmente** usando colchetes `[]`. Lembre-se de que a contagem começa no **índice 0**.  "
   ]
  },
  {
   "cell_type": "code",
   "execution_count": 85,
   "metadata": {},
   "outputs": [
    {
     "name": "stdout",
     "output_type": "stream",
     "text": [
      "P\n",
      "h\n"
     ]
    }
   ],
   "source": [
    "texto = \"Python\"\n",
    "print(texto[0])  # P\n",
    "print(texto[3])  # h"
   ]
  },
  {
   "cell_type": "markdown",
   "metadata": {},
   "source": [
    "🔹 **Acessando caracteres de trás para frente:**  "
   ]
  },
  {
   "cell_type": "code",
   "execution_count": 86,
   "metadata": {},
   "outputs": [
    {
     "name": "stdout",
     "output_type": "stream",
     "text": [
      "n\n",
      "o\n"
     ]
    }
   ],
   "source": [
    "print(texto[-1])  # n\n",
    "print(texto[-2])  # o"
   ]
  },
  {
   "cell_type": "markdown",
   "metadata": {},
   "source": [
    "#### **Fatiamento (Slicing) de Strings**  \n",
    "\n",
    "Podemos pegar **partes da string** usando `:` dentro dos colchetes.  "
   ]
  },
  {
   "cell_type": "code",
   "execution_count": 87,
   "metadata": {},
   "outputs": [
    {
     "name": "stdout",
     "output_type": "stream",
     "text": [
      "Análise\n",
      "de Dados\n",
      "Análise\n"
     ]
    }
   ],
   "source": [
    "texto = \"Análise de Dados\"\n",
    "print(texto[0:7])   # 'Análise' (pega do índice 0 ao 6)\n",
    "print(texto[8:])    # 'de Dados' (do índice 8 até o final)\n",
    "print(texto[:7])    # 'Análise' (do início ao índice 6)"
   ]
  },
  {
   "cell_type": "markdown",
   "metadata": {},
   "source": [
    "🔹 **Usando índices negativos:**"
   ]
  },
  {
   "cell_type": "code",
   "execution_count": 88,
   "metadata": {},
   "outputs": [
    {
     "name": "stdout",
     "output_type": "stream",
     "text": [
      " Dados\n"
     ]
    }
   ],
   "source": [
    "print(texto[-6:])   # 'Dados' (pega os últimos 6 caracteres)"
   ]
  },
  {
   "cell_type": "markdown",
   "metadata": {},
   "source": [
    "#### **Repetindo Strings com `*`**  \n",
    "Podemos repetir uma string várias vezes usando `*`. "
   ]
  },
  {
   "cell_type": "code",
   "execution_count": 89,
   "metadata": {},
   "outputs": [
    {
     "name": "stdout",
     "output_type": "stream",
     "text": [
      "www\n"
     ]
    }
   ],
   "source": [
    "letra = \"w\" * 3\n",
    "print(letra)  # www"
   ]
  },
  {
   "cell_type": "markdown",
   "metadata": {},
   "source": [
    "#### **Principais Funções para Manipular Strings**  \n",
    "\n",
    "Python oferece várias funções úteis para **modificar e analisar strings**.  \n",
    "\n",
    "| Função        | Descrição |\n",
    "|--------------|----------------------------------|\n",
    "| `upper()`    | Converte para maiúsculas        |\n",
    "| `lower()`    | Converte para minúsculas        |\n",
    "| `capitalize()` | Primeira letra maiúscula       |\n",
    "| `split()`    | Divide a string em uma lista    |\n",
    "| `count(x)`   | Conta quantas vezes `x` aparece |\n",
    "| `find(x)`    | Retorna a posição de `x` (ou -1 se não encontrar) |"
   ]
  },
  {
   "cell_type": "code",
   "execution_count": 90,
   "metadata": {},
   "outputs": [
    {
     "name": "stdout",
     "output_type": "stream",
     "text": [
      "CURSO EAD\n",
      "curso ead\n",
      "Curso ead\n",
      "['curso', 'ead']\n",
      "1\n",
      "0\n",
      "-1\n"
     ]
    }
   ],
   "source": [
    "x = \"curso ead\"\n",
    "\n",
    "print(x.upper())        # CURSO EAD\n",
    "print(x.lower())        # curso ead\n",
    "print(x.capitalize())   # Curso ead\n",
    "print(x.split())        # ['curso', 'ead']\n",
    "print(x.count(\"o\"))     # 1 (quantidade de 'o')\n",
    "print(x.find(\"c\"))      # 0 (posição da letra 'c')\n",
    "print(x.find(\"x\"))      # -1 (não encontrou 'x')"
   ]
  },
  {
   "cell_type": "markdown",
   "metadata": {},
   "source": [
    "### **Estruturas de Dados em Python**  \n",
    "Python possui três estruturas principais para armazenar conjuntos de valores: **listas**, **dicionários** e **tuplas**.  \n",
    "\n",
    "#### **1. Listas (`list`)**  \n",
    "- Criadas com colchetes `[]` e podem armazenar diferentes tipos de dados.  \n",
    "- Permitem acesso por índice, começando do `0`.  \n",
    "- São **mutáveis** (podem ser modificadas).  \n",
    "- **Operações comuns:**  \n",
    "  - `append(valor)`: adiciona um item.  \n",
    "  - `del lista[indice]`: remove um item.  \n",
    "  - `len(lista)`: retorna o tamanho da lista.  \n",
    "  - `max(lista)`, `min(lista)`: obtêm o maior/menor valor.  \n",
    "  - `in`: verifica se um elemento está na lista.  \n",
    "  - `sort()`: ordena a lista.  \n",
    "  - **Concatenar listas:** `lista3 = lista1 + lista2`.  "
   ]
  },
  {
   "cell_type": "code",
   "execution_count": 91,
   "metadata": {},
   "outputs": [
    {
     "name": "stdout",
     "output_type": "stream",
     "text": [
      "['maçã', 'banana', 'uva', 'laranja', 'morango']\n"
     ]
    }
   ],
   "source": [
    "### **Exemplo de Lista**\n",
    "frutas = [\"maçã\", \"banana\", \"uva\", \"laranja\", \"morango\"]\n",
    "print(frutas)  # ['maçã', 'banana', 'uva', 'laranja', 'morango']"
   ]
  },
  {
   "cell_type": "code",
   "execution_count": 92,
   "metadata": {},
   "outputs": [
    {
     "name": "stdout",
     "output_type": "stream",
     "text": [
      "uva\n"
     ]
    }
   ],
   "source": [
    "### **Acessando Elementos**\n",
    "print(frutas[2])  # 'uva' (índice começa em 0)"
   ]
  },
  {
   "cell_type": "code",
   "execution_count": 93,
   "metadata": {},
   "outputs": [
    {
     "name": "stdout",
     "output_type": "stream",
     "text": [
      "['maçã', 'banana', 'uva']\n"
     ]
    }
   ],
   "source": [
    "### **Slicing (Fatiamento)**\n",
    "print(frutas[:3])  # ['maçã', 'banana', 'uva'] (pega do início até índice 2)"
   ]
  },
  {
   "cell_type": "code",
   "execution_count": 94,
   "metadata": {},
   "outputs": [
    {
     "name": "stdout",
     "output_type": "stream",
     "text": [
      "['maçã', 'banana', 'uva', 'laranja', 'morango', 'damasco']\n",
      "['maçã', 'banana', 'laranja', 'morango', 'damasco']\n"
     ]
    }
   ],
   "source": [
    "# Modificando Listas\n",
    "\n",
    "frutas.append(\"damasco\")  # Adiciona um elemento no final\n",
    "print(frutas)  \n",
    "# ['maçã', 'banana', 'uva', 'laranja', 'morango', 'damasco']\n",
    "\n",
    "del frutas[2]  # Remove o elemento de índice 2\n",
    "print(frutas)  \n",
    "# ['maçã', 'banana', 'laranja', 'morango', 'damasco']"
   ]
  },
  {
   "cell_type": "code",
   "execution_count": 95,
   "metadata": {},
   "outputs": [
    {
     "name": "stdout",
     "output_type": "stream",
     "text": [
      "[1, 2, 3, 4, 5, 6, 7]\n"
     ]
    }
   ],
   "source": [
    "### **Concatenando Listas**\n",
    "\n",
    "lista1 = [1, 2, 3, 4]\n",
    "lista2 = [5, 6, 7]\n",
    "lista3 = lista1 + lista2\n",
    "print(lista3)  # [1, 2, 3, 4, 5, 6, 7]"
   ]
  },
  {
   "cell_type": "code",
   "execution_count": 96,
   "metadata": {},
   "outputs": [
    {
     "name": "stdout",
     "output_type": "stream",
     "text": [
      "5 quantidade de frutas\n",
      "10 max\n",
      "2 min\n",
      "True\n",
      "['banana', 'damasco', 'laranja', 'maçã', 'morango'] ordenado em ordem alfabética\n"
     ]
    }
   ],
   "source": [
    "### **Funções Úteis**\n",
    "len(frutas) # Conta quantos elementos existem\n",
    "max([10, 5, 2])  # Retorna o maior número\n",
    "min([10, 5, 2])  # Retorna o menor número\n",
    "\"banana\" in frutas  # Verifica se um item está na lista (True ou False)\n",
    "frutas.sort()  # Ordena a lista (alfabética ou numérica)\n",
    "\n",
    "print (len(frutas), \"quantidade de frutas\")\n",
    "print (max([10,5,2]), \"max\")\n",
    "print (min([10, 5, 2]), \"min\")\n",
    "print (\"banana\" in frutas)\n",
    "print(frutas, \"ordenado em ordem alfabética\")"
   ]
  },
  {
   "cell_type": "markdown",
   "metadata": {},
   "source": [
    "#### **2. Dicionários (`dict`)**  \n",
    "- Criados com `{}`, armazenam valores no formato **chave:valor**.  \n",
    "- São **mutáveis** e permitem acesso rápido aos dados por chave.  \n",
    "- **Operações comuns:**  \n",
    "  - `dict[chave]`: acessa o valor correspondente.  \n",
    "  - `dict[chave] = valor`: adiciona ou altera um item.  \n",
    "  - `len(dict)`: retorna o número de elementos.  \n",
    "  - `dict.keys()`: retorna as chaves.  \n",
    "  - `dict.values()`: retorna os valores.  "
   ]
  },
  {
   "cell_type": "code",
   "execution_count": 97,
   "metadata": {},
   "outputs": [
    {
     "data": {
      "text/plain": [
       "{'nome': 'Ana', 'idade': 20, 'curso': 'Python'}"
      ]
     },
     "execution_count": 97,
     "metadata": {},
     "output_type": "execute_result"
    }
   ],
   "source": [
    "### **Criando um Dicionário**\n",
    "\n",
    "aluno = {\n",
    "    \"nome\": \"Ana\",\n",
    "    \"idade\": 20,\n",
    "    \"curso\": \"Python\"}\n",
    "\n",
    "aluno"
   ]
  },
  {
   "cell_type": "code",
   "execution_count": 98,
   "metadata": {},
   "outputs": [
    {
     "name": "stdout",
     "output_type": "stream",
     "text": [
      "Ana\n",
      "Python\n"
     ]
    }
   ],
   "source": [
    "### **Acessando Valores**\n",
    "print(aluno[\"nome\"])  # Ana\n",
    "print(aluno.get(\"curso\"))  # Python"
   ]
  },
  {
   "cell_type": "code",
   "execution_count": 99,
   "metadata": {},
   "outputs": [
    {
     "data": {
      "text/plain": [
       "{'nome': 'Ana', 'idade': 21, 'curso': 'Python', 'cidade': 'São Paulo'}"
      ]
     },
     "execution_count": 99,
     "metadata": {},
     "output_type": "execute_result"
    }
   ],
   "source": [
    "### **Adicionando e Modificando Valores**\n",
    "aluno[\"idade\"] = 21  # Modifica um valor existente\n",
    "aluno[\"cidade\"] = \"São Paulo\"  # Adiciona uma nova chave\n",
    "\n",
    "aluno"
   ]
  },
  {
   "cell_type": "code",
   "execution_count": 100,
   "metadata": {},
   "outputs": [
    {
     "data": {
      "text/plain": [
       "21"
      ]
     },
     "execution_count": 100,
     "metadata": {},
     "output_type": "execute_result"
    }
   ],
   "source": [
    "### **Removendo Elementos**\n",
    "del aluno[\"curso\"]  # Remove a chave \"curso\"\n",
    "aluno.pop(\"idade\")  # Outra forma de remover"
   ]
  },
  {
   "cell_type": "code",
   "execution_count": 101,
   "metadata": {},
   "outputs": [
    {
     "name": "stdout",
     "output_type": "stream",
     "text": [
      "nome: Ana\n",
      "cidade: São Paulo\n"
     ]
    }
   ],
   "source": [
    "### **Iterando pelo Dicionário**\n",
    "for chave, valor in aluno.items():\n",
    "    print(f\"{chave}: {valor}\")"
   ]
  },
  {
   "cell_type": "markdown",
   "metadata": {},
   "source": [
    "### **3️⃣ Tuplas (`tuple`)**  \n",
    "\n",
    "As tuplas são como listas, porém **imutáveis** (não podem ser alteradas depois de criadas). Isso significa que, uma vez definida, a tupla não pode ter seus elementos modificados, adicionados ou removidos."
   ]
  },
  {
   "cell_type": "code",
   "execution_count": 102,
   "metadata": {},
   "outputs": [
    {
     "data": {
      "text/plain": [
       "('leão', 'girafa', 'gato')"
      ]
     },
     "execution_count": 102,
     "metadata": {},
     "output_type": "execute_result"
    }
   ],
   "source": [
    "#### **Criando uma tupla:**  \n",
    "animais = (\"leão\", \"girafa\", \"gato\")\n",
    "animais"
   ]
  },
  {
   "cell_type": "markdown",
   "metadata": {},
   "source": [
    "#### **Principais características:**  \n",
    "✅ **Imutáveis**: após a criação, os valores não podem ser alterados.  \n",
    "✅ **Mais rápidas** que listas, pois não precisam de operações de modificação.  \n",
    "✅ **Podem armazenar diferentes tipos de dados**, como inteiros, strings e até outras tuplas.  \n",
    "✅ **Usadas para dados que não devem ser alterados**, como coordenadas geográficas ou configurações fixas. "
   ]
  },
  {
   "cell_type": "code",
   "execution_count": 103,
   "metadata": {},
   "outputs": [
    {
     "name": "stdout",
     "output_type": "stream",
     "text": [
      "maçã\n"
     ]
    }
   ],
   "source": [
    "#### **Acessando elementos da tupla:**  \n",
    "# Os elementos são acessados pelo índice, assim como nas listas:  \n",
    "\n",
    "frutas = (\"maçã\", \"banana\", \"uva\")\n",
    "print(frutas[0])  # Saída: maçã"
   ]
  },
  {
   "cell_type": "code",
   "execution_count": 104,
   "metadata": {},
   "outputs": [
    {
     "name": "stdout",
     "output_type": "stream",
     "text": [
      "João\n",
      "30\n",
      "Engenheiro\n"
     ]
    }
   ],
   "source": [
    "#### **Desempacotamento de tuplas:**  \n",
    "# Podemos atribuir os valores da tupla a variáveis individuais:  \n",
    "\n",
    "pessoa = (\"João\", 30, \"Engenheiro\")\n",
    "nome, idade, profissao = pessoa\n",
    "print(nome)       # Saída: João\n",
    "print(idade)      # Saída: 30\n",
    "print(profissao)  # Saída: Engenheiro"
   ]
  },
  {
   "cell_type": "markdown",
   "metadata": {},
   "source": [
    "#### **Operações com tuplas:**  \n",
    "🔹 **Concatenar tuplas:** "
   ]
  },
  {
   "cell_type": "code",
   "execution_count": 105,
   "metadata": {},
   "outputs": [
    {
     "name": "stdout",
     "output_type": "stream",
     "text": [
      "('vermelho', 'azul', 'verde', 'amarelo')\n"
     ]
    }
   ],
   "source": [
    "cores1 = (\"vermelho\", \"azul\")\n",
    "cores2 = (\"verde\", \"amarelo\")\n",
    "todas_cores = cores1 + cores2\n",
    "print(todas_cores)  # Saída: ('vermelho', 'azul', 'verde', 'amarelo')"
   ]
  },
  {
   "cell_type": "markdown",
   "metadata": {},
   "source": [
    "🔹 **Contar elementos:**  "
   ]
  },
  {
   "cell_type": "code",
   "execution_count": 106,
   "metadata": {},
   "outputs": [
    {
     "name": "stdout",
     "output_type": "stream",
     "text": [
      "3\n"
     ]
    }
   ],
   "source": [
    "numeros = (1, 2, 3, 2, 4, 2)\n",
    "print(numeros.count(2))  # Saída: 3 (quantidade de vezes que \"2\" aparece)"
   ]
  },
  {
   "cell_type": "markdown",
   "metadata": {},
   "source": [
    "🔹 **Verificar a posição de um elemento (`index`)**  "
   ]
  },
  {
   "cell_type": "code",
   "execution_count": 107,
   "metadata": {},
   "outputs": [
    {
     "name": "stdout",
     "output_type": "stream",
     "text": [
      "2\n"
     ]
    }
   ],
   "source": [
    "print(numeros.index(3))  # Saída: 2 (posição do número 3)"
   ]
  },
  {
   "cell_type": "markdown",
   "metadata": {},
   "source": [
    "🔹 **Tamanho da tupla (`len`)**  "
   ]
  },
  {
   "cell_type": "code",
   "execution_count": 108,
   "metadata": {},
   "outputs": [
    {
     "name": "stdout",
     "output_type": "stream",
     "text": [
      "6\n"
     ]
    }
   ],
   "source": [
    "print(len(numeros))  # Saída: 6 (número de elementos)"
   ]
  },
  {
   "cell_type": "markdown",
   "metadata": {},
   "source": [
    "### **Estruturas Condicionais (`if, elif, else`)**  \n",
    "Permitem executar diferentes blocos de código com base em condições.\n",
    "\n",
    "#### **Sintaxe básica:**  \n",
    "```python\n",
    "if condição:\n",
    "    # Bloco executado se a condição for verdadeira\n",
    "elif outra_condição:\n",
    "    # Bloco executado se a outra condição for verdadeira\n",
    "else:\n",
    "    # Bloco executado se nenhuma condição for verdadeira\n",
    "``` "
   ]
  },
  {
   "cell_type": "code",
   "execution_count": 109,
   "metadata": {},
   "outputs": [
    {
     "name": "stdout",
     "output_type": "stream",
     "text": [
      "O número é positivo.\n"
     ]
    }
   ],
   "source": [
    "valor = int(input(\"Digite um valor: \"))\n",
    "if valor > 0:\n",
    "    print(\"O número é positivo.\")\n",
    "else:\n",
    "    print(\"O número é zero ou negativo.\")"
   ]
  },
  {
   "cell_type": "markdown",
   "metadata": {},
   "source": [
    "### **Estruturas de Repetição (`for` e `while`)**  \n",
    "Usadas para executar um bloco de código várias vezes.  \n",
    "\n",
    "#### **1. `for` (repetição controlada)**  \n",
    "- Itera sobre listas, tuplas, dicionários e strings.  \n",
    "- **Exemplo: imprimindo números de 0 a 10:**  \n",
    "  ```python\n",
    "  for i in range(0, 11):\n",
    "      print(i)\n",
    "  ```"
   ]
  },
  {
   "cell_type": "code",
   "execution_count": 110,
   "metadata": {},
   "outputs": [
    {
     "name": "stdout",
     "output_type": "stream",
     "text": [
      "Nome da fruta: Maçã\n",
      "Nome da fruta: Banana\n",
      "Nome da fruta: Uva\n"
     ]
    }
   ],
   "source": [
    "# Exemplo: percorrendo uma lista de frutas:\n",
    "frutas = [\"maçã\", \"banana\", \"uva\"]\n",
    "for fruta in frutas:\n",
    "    print(\"Nome da fruta:\", fruta.capitalize())"
   ]
  },
  {
   "cell_type": "markdown",
   "metadata": {},
   "source": [
    "#### **2. `while` (repetição condicional)**  \n",
    "- Executa enquanto uma condição for verdadeira.  \n",
    "- **Exemplo: imprimindo números de 1 a 10:**  \n",
    "  ```python\n",
    "  i = 1\n",
    "  while i <= 10:\n",
    "      print(i)\n",
    "      i += 1\n",
    "  ```"
   ]
  },
  {
   "cell_type": "code",
   "execution_count": 111,
   "metadata": {},
   "outputs": [
    {
     "name": "stdout",
     "output_type": "stream",
     "text": [
      "Soma total: 105\n"
     ]
    }
   ],
   "source": [
    "# Exemplo: somando números até o usuário digitar `0`:\n",
    "\n",
    "soma = 0\n",
    "while True:\n",
    "      valor = int(input(\"Digite um número: \"))\n",
    "      if valor == 0:\n",
    "          break  # Sai do loop\n",
    "      soma += valor\n",
    "print(\"Soma total:\", soma)"
   ]
  },
  {
   "cell_type": "markdown",
   "metadata": {},
   "source": [
    "### **Funções**  \n",
    "Permitem organizar o código em blocos reutilizáveis. \n",
    "\n",
    "#### **Sintaxe básica:**  \n",
    "```python\n",
    "def nome_da_função(argumento1, argumento2):\n",
    "    # Código da função\n",
    "    return resultado\n",
    "```"
   ]
  },
  {
   "cell_type": "code",
   "execution_count": 112,
   "metadata": {},
   "outputs": [
    {
     "name": "stdout",
     "output_type": "stream",
     "text": [
      "Olá, bem-vindo!\n"
     ]
    }
   ],
   "source": [
    "# Exemplo 1: função simples \n",
    "\n",
    "def saudacao():\n",
    "    print(\"Olá, bem-vindo!\")\n",
    "saudacao()"
   ]
  },
  {
   "cell_type": "code",
   "execution_count": 113,
   "metadata": {},
   "outputs": [
    {
     "name": "stdout",
     "output_type": "stream",
     "text": [
      "8\n"
     ]
    }
   ],
   "source": [
    "# Exemplo 2: função com parâmetros e retorno\n",
    "\n",
    "def soma(a, b):\n",
    "    return a + b\n",
    "\n",
    "resultado = soma(5, 3)\n",
    "print(resultado)  # Saída: 8"
   ]
  },
  {
   "cell_type": "code",
   "execution_count": 114,
   "metadata": {},
   "outputs": [
    {
     "name": "stdout",
     "output_type": "stream",
     "text": [
      "15\n"
     ]
    }
   ],
   "source": [
    "# Exemplo 3: somando números de 1 até N\n",
    "def soma_numeros(n):\n",
    "    soma = 0\n",
    "    for i in range(1, n + 1):\n",
    "        soma += i\n",
    "    return soma\n",
    "\n",
    "print(soma_numeros(5))  # Saída: 15"
   ]
  },
  {
   "cell_type": "markdown",
   "metadata": {},
   "source": [
    "### **Expressões Lambda e List Comprehension** \n",
    "\n",
    "#### **Expressões Lambda**  \n",
    "\n",
    "A **expressão lambda** (ou função anônima) permite criar funções **sem nome** e sem usar `def`. Elas retornam valores da mesma forma que funções normais, mas são mais compactas e úteis para situações simples.  \n",
    "\n",
    "#### **Sintaxe:**  \n",
    "```python\n",
    "lambda argumento_1, argumento_n : expressão\n",
    "```"
   ]
  },
  {
   "cell_type": "code",
   "execution_count": 115,
   "metadata": {},
   "outputs": [
    {
     "name": "stdout",
     "output_type": "stream",
     "text": [
      "20\n"
     ]
    }
   ],
   "source": [
    "# 🔹 Função tradicional:  \n",
    "\n",
    "def func_soma(a, b):\n",
    "    return a + b\n",
    "\n",
    "print(func_soma(10, 10))  # Saída: 20"
   ]
  },
  {
   "cell_type": "code",
   "execution_count": 116,
   "metadata": {},
   "outputs": [
    {
     "name": "stdout",
     "output_type": "stream",
     "text": [
      "20\n"
     ]
    }
   ],
   "source": [
    "#🔹 Mesma lógica com `lambda`:  \n",
    "\n",
    "soma = lambda a, b: a + b\n",
    "print(soma(10, 10))  # Saída: 20"
   ]
  },
  {
   "cell_type": "markdown",
   "metadata": {},
   "source": [
    "✅ **Menos código, mesma funcionalidade!**  \n",
    "❗ **Atenção:** Expressões lambda **não substituem** funções convencionais, pois são limitadas a **expressões simples**.\n",
    "\n",
    "#### **📌 List Comprehension**  \n",
    "\n",
    "A **list comprehension** permite criar listas de forma mais rápida e compacta.  \n",
    "\n",
    "#### **Sintaxe:**  \n",
    "```python\n",
    "[expressão for item in lista]\n",
    "```"
   ]
  },
  {
   "cell_type": "code",
   "execution_count": 117,
   "metadata": {},
   "outputs": [
    {
     "name": "stdout",
     "output_type": "stream",
     "text": [
      "[0, 1, 2, 3, 4, 5, 6, 7, 8, 9]\n"
     ]
    }
   ],
   "source": [
    "#🔹 Criando uma lista **da maneira tradicional**:  \n",
    "\n",
    "list1 = []\n",
    "for i in range(10):\n",
    "    list1.append(i)\n",
    "print(list1)  # Saída: [0, 1, 2, 3, 4, 5, 6, 7, 8, 9]"
   ]
  },
  {
   "cell_type": "code",
   "execution_count": 118,
   "metadata": {},
   "outputs": [
    {
     "name": "stdout",
     "output_type": "stream",
     "text": [
      "[0, 1, 2, 3, 4, 5, 6, 7, 8, 9]\n"
     ]
    }
   ],
   "source": [
    "# 🔹 **Usando list comprehension:**  \n",
    "\n",
    "list2 = [i for i in range(10)]\n",
    "print(list2)  # Saída: [0, 1, 2, 3, 4, 5, 6, 7, 8, 9]"
   ]
  },
  {
   "cell_type": "markdown",
   "metadata": {},
   "source": [
    "✅ **Código mais limpo e eficiente!**  \n",
    "🔹 Podemos incluir **condições (`if`)** dentro da estrutura:  "
   ]
  },
  {
   "cell_type": "code",
   "execution_count": 119,
   "metadata": {},
   "outputs": [
    {
     "name": "stdout",
     "output_type": "stream",
     "text": [
      "[0, 2, 4, 6, 8]\n"
     ]
    }
   ],
   "source": [
    "pares = [i for i in range(10) if i % 2 == 0]\n",
    "print(pares)  # Saída: [0, 2, 4, 6, 8]"
   ]
  }
 ],
 "metadata": {
  "kernelspec": {
   "display_name": ".venv",
   "language": "python",
   "name": "python3"
  },
  "language_info": {
   "codemirror_mode": {
    "name": "ipython",
    "version": 3
   },
   "file_extension": ".py",
   "mimetype": "text/x-python",
   "name": "python",
   "nbconvert_exporter": "python",
   "pygments_lexer": "ipython3",
   "version": "3.12.3"
  }
 },
 "nbformat": 4,
 "nbformat_minor": 2
}
